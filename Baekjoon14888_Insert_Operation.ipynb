{
  "nbformat": 4,
  "nbformat_minor": 0,
  "metadata": {
    "colab": {
      "name": "Baekjoon14888_Insert_Operation.ipynb",
      "provenance": [],
      "mount_file_id": "166DwooMdYAFqWImQ9pARHENZAwMj45zc",
      "authorship_tag": "ABX9TyMeUpKWzSbcvBOaevwhkI+O",
      "include_colab_link": true
    },
    "kernelspec": {
      "name": "python3",
      "display_name": "Python 3"
    }
  },
  "cells": [
    {
      "cell_type": "markdown",
      "metadata": {
        "id": "view-in-github",
        "colab_type": "text"
      },
      "source": [
        "<a href=\"https://colab.research.google.com/github/fairyroad/Algorithm/blob/master/Baekjoon14888_Insert_Operation.ipynb\" target=\"_parent\"><img src=\"https://colab.research.google.com/assets/colab-badge.svg\" alt=\"Open In Colab\"/></a>"
      ]
    },
    {
      "cell_type": "markdown",
      "metadata": {
        "id": "HRSr3VbLkShZ"
      },
      "source": [
        "#Baekjoon14888번"
      ]
    },
    {
      "cell_type": "code",
      "metadata": {
        "id": "Av6n8mNPkAWy"
      },
      "source": [
        "import itertools\r\n",
        "from functools import reduce\r\n",
        "import sys\r\n",
        "import time"
      ],
      "execution_count": 1,
      "outputs": []
    },
    {
      "cell_type": "code",
      "metadata": {
        "id": "S-G1woyAkZ7_"
      },
      "source": [
        "def insert_operation(length, input_num, input_oper):\r\n",
        "\r\n",
        "    ops={\"0\": (lambda x,y:x+y), \"1\": (lambda x,y:x-y), \"2\": (lambda x,y:x*y), \"3\": (lambda x,y:x/y)}\r\n",
        "    oper_permutation=[]\r\n",
        "    result=[]\r\n",
        "    list(oper_permutation.extend([str(index)]*value) for index,value in enumerate(input_oper) if value>0)\r\n",
        "    permutation=[list(x) for x in set(itertools.permutations(oper_permutation))]\r\n",
        "    for i in permutation:\r\n",
        "        result.append(reduce(lambda x,y:ops[i.pop()](x,y),input_num))\r\n",
        "\r\n",
        "    print(str(max(result))+\"\\n\"+str(min(result)))\r\n"
      ],
      "execution_count": 3,
      "outputs": []
    },
    {
      "cell_type": "code",
      "metadata": {
        "colab": {
          "base_uri": "https://localhost:8080/"
        },
        "id": "H9ELic9ZmfSj",
        "outputId": "b052fe3d-1de9-4e9d-e885-729a6a93ed8e"
      },
      "source": [
        "n=6\r\n",
        "numbers=[1,2,3,4,5,6]\r\n",
        "arithmetics=[2,1,1,1]\r\n",
        "insert_operation(n,numbers,arithmetics)"
      ],
      "execution_count": 4,
      "outputs": [
        {
          "output_type": "stream",
          "text": [
            "52.0\n",
            "-21.0\n"
          ],
          "name": "stdout"
        }
      ]
    }
  ]
}